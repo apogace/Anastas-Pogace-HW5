{
  "nbformat": 4,
  "nbformat_minor": 0,
  "metadata": {
    "colab": {
      "name": "Anastas Pogace Data 612 HW5",
      "provenance": [],
      "collapsed_sections": [],
      "include_colab_link": true
    },
    "kernelspec": {
      "name": "python3",
      "display_name": "Python 3"
    }
  },
  "cells": [
    {
      "cell_type": "markdown",
      "metadata": {
        "id": "view-in-github",
        "colab_type": "text"
      },
      "source": [
        "<a href=\"https://colab.research.google.com/github/apogace/Anastas-Pogace-HW5/blob/main/Anastas_Pogace_Data_612_HW5.ipynb\" target=\"_parent\"><img src=\"https://colab.research.google.com/assets/colab-badge.svg\" alt=\"Open In Colab\"/></a>"
      ]
    },
    {
      "cell_type": "markdown",
      "metadata": {
        "id": "PVPwSURJLrm5"
      },
      "source": [
        "# Assignment for Week 5      \n",
        "(Chapter 6 & 7)"
      ]
    },
    {
      "cell_type": "markdown",
      "metadata": {
        "id": "oxOFlqNrMDvt"
      },
      "source": [
        "## Purpose:\n",
        "This assignment is intended to help you do the following:       \n",
        "1.\tDifferentiate between categorical and non-categorical variables\n",
        "2.\tConvert variables from one type to another\n",
        "3.\tFamiliarize with strings\n"
      ]
    },
    {
      "cell_type": "markdown",
      "metadata": {
        "id": "rzBeh3W4MEzh"
      },
      "source": [
        "## Action Items:      \n",
        "•\tConvert data\n",
        "1. Work on your selected data set and covert a column of non-categorical type into a categorical type. \n",
        "2. Convert another column into a string type. \n",
        "3. Post your work on GitHub\n",
        "4. Add a README file\n"
      ]
    },
    {
      "cell_type": "markdown",
      "metadata": {
        "id": "nbDh9qkK8ytB"
      },
      "source": [
        "***Anastas Pogace ***\n",
        "\n",
        "> \n",
        "\n"
      ]
    },
    {
      "cell_type": "code",
      "metadata": {
        "colab": {
          "base_uri": "https://localhost:8080/",
          "height": 626
        },
        "id": "nwf0gw7y6uFr",
        "outputId": "749adf5f-366d-483c-c714-3ee1e47c6448"
      },
      "source": [
        "import pandas as pd \n",
        "df = pd.read_csv('https://raw.githubusercontent.com/frankData612/data_612/master/State_Drug_Utilization_Data_2010/State_Drug_Utilization_Data_2010.csv')\n",
        "df"
      ],
      "execution_count": 2,
      "outputs": [
        {
          "output_type": "execute_result",
          "data": {
            "text/html": [
              "<div>\n",
              "<style scoped>\n",
              "    .dataframe tbody tr th:only-of-type {\n",
              "        vertical-align: middle;\n",
              "    }\n",
              "\n",
              "    .dataframe tbody tr th {\n",
              "        vertical-align: top;\n",
              "    }\n",
              "\n",
              "    .dataframe thead th {\n",
              "        text-align: right;\n",
              "    }\n",
              "</style>\n",
              "<table border=\"1\" class=\"dataframe\">\n",
              "  <thead>\n",
              "    <tr style=\"text-align: right;\">\n",
              "      <th></th>\n",
              "      <th>Unnamed: 0</th>\n",
              "      <th>Utilization Type</th>\n",
              "      <th>State</th>\n",
              "      <th>Labeler Code</th>\n",
              "      <th>Product Code</th>\n",
              "      <th>Package Size</th>\n",
              "      <th>Year</th>\n",
              "      <th>Quarter</th>\n",
              "      <th>Product Name</th>\n",
              "      <th>Units Reimbursed</th>\n",
              "      <th>Suppression Used</th>\n",
              "      <th>Number of Prescriptions</th>\n",
              "      <th>Total Amount Reimbursed</th>\n",
              "      <th>Medicaid Amount Reimbursed</th>\n",
              "      <th>Non Medicaid Amount Reimbursed</th>\n",
              "      <th>Quarter Begin</th>\n",
              "      <th>Quarter Begin Date</th>\n",
              "      <th>Latitude</th>\n",
              "      <th>Longitude</th>\n",
              "      <th>Location</th>\n",
              "      <th>NDC</th>\n",
              "    </tr>\n",
              "  </thead>\n",
              "  <tbody>\n",
              "    <tr>\n",
              "      <th>0</th>\n",
              "      <td>128037</td>\n",
              "      <td>MCOU</td>\n",
              "      <td>MA</td>\n",
              "      <td>37205</td>\n",
              "      <td>137</td>\n",
              "      <td>5</td>\n",
              "      <td>2010</td>\n",
              "      <td>4</td>\n",
              "      <td>ARTIFICIAL</td>\n",
              "      <td>15.000</td>\n",
              "      <td>False</td>\n",
              "      <td>1</td>\n",
              "      <td>4.08</td>\n",
              "      <td>4.08</td>\n",
              "      <td>0.00</td>\n",
              "      <td>10/1</td>\n",
              "      <td>10/01/2010</td>\n",
              "      <td>31.1801</td>\n",
              "      <td>-91.8749</td>\n",
              "      <td>(31.1801, -91.8749)</td>\n",
              "      <td>37205013705</td>\n",
              "    </tr>\n",
              "    <tr>\n",
              "      <th>1</th>\n",
              "      <td>491755</td>\n",
              "      <td>FFSU</td>\n",
              "      <td>FL</td>\n",
              "      <td>62756</td>\n",
              "      <td>763</td>\n",
              "      <td>88</td>\n",
              "      <td>2010</td>\n",
              "      <td>1</td>\n",
              "      <td>TORSEMIDE</td>\n",
              "      <td>255.000</td>\n",
              "      <td>False</td>\n",
              "      <td>8</td>\n",
              "      <td>103.33</td>\n",
              "      <td>103.33</td>\n",
              "      <td>0.00</td>\n",
              "      <td>1/1</td>\n",
              "      <td>01/01/2010</td>\n",
              "      <td>39.3498</td>\n",
              "      <td>-75.5148</td>\n",
              "      <td>(39.3498, -75.5148)</td>\n",
              "      <td>62756076388</td>\n",
              "    </tr>\n",
              "    <tr>\n",
              "      <th>2</th>\n",
              "      <td>2568076</td>\n",
              "      <td>FFSU</td>\n",
              "      <td>UT</td>\n",
              "      <td>46987</td>\n",
              "      <td>323</td>\n",
              "      <td>11</td>\n",
              "      <td>2010</td>\n",
              "      <td>2</td>\n",
              "      <td>Kadian Ora</td>\n",
              "      <td>120.000</td>\n",
              "      <td>False</td>\n",
              "      <td>2</td>\n",
              "      <td>905.24</td>\n",
              "      <td>905.24</td>\n",
              "      <td>0.00</td>\n",
              "      <td>4/1</td>\n",
              "      <td>04/01/2010</td>\n",
              "      <td>44.2853</td>\n",
              "      <td>-99.4632</td>\n",
              "      <td>(44.2853, -99.4632)</td>\n",
              "      <td>46987032311</td>\n",
              "    </tr>\n",
              "    <tr>\n",
              "      <th>3</th>\n",
              "      <td>491263</td>\n",
              "      <td>FFSU</td>\n",
              "      <td>MN</td>\n",
              "      <td>781</td>\n",
              "      <td>5185</td>\n",
              "      <td>1</td>\n",
              "      <td>2010</td>\n",
              "      <td>4</td>\n",
              "      <td>LEVOTHYROX</td>\n",
              "      <td>1114.000</td>\n",
              "      <td>False</td>\n",
              "      <td>34</td>\n",
              "      <td>312.22</td>\n",
              "      <td>306.22</td>\n",
              "      <td>6.00</td>\n",
              "      <td>10/1</td>\n",
              "      <td>10/01/2010</td>\n",
              "      <td>43.3504</td>\n",
              "      <td>-84.5603</td>\n",
              "      <td>(43.3504, -84.5603)</td>\n",
              "      <td>781518501</td>\n",
              "    </tr>\n",
              "    <tr>\n",
              "      <th>4</th>\n",
              "      <td>836489</td>\n",
              "      <td>FFSU</td>\n",
              "      <td>XX</td>\n",
              "      <td>51552</td>\n",
              "      <td>809</td>\n",
              "      <td>6</td>\n",
              "      <td>2010</td>\n",
              "      <td>2</td>\n",
              "      <td>COLD CREAM</td>\n",
              "      <td>226.089</td>\n",
              "      <td>False</td>\n",
              "      <td>7</td>\n",
              "      <td>52.87</td>\n",
              "      <td>52.87</td>\n",
              "      <td>0.00</td>\n",
              "      <td>4/1</td>\n",
              "      <td>04/01/2010</td>\n",
              "      <td>NaN</td>\n",
              "      <td>NaN</td>\n",
              "      <td>NaN</td>\n",
              "      <td>51552080906</td>\n",
              "    </tr>\n",
              "    <tr>\n",
              "      <th>...</th>\n",
              "      <td>...</td>\n",
              "      <td>...</td>\n",
              "      <td>...</td>\n",
              "      <td>...</td>\n",
              "      <td>...</td>\n",
              "      <td>...</td>\n",
              "      <td>...</td>\n",
              "      <td>...</td>\n",
              "      <td>...</td>\n",
              "      <td>...</td>\n",
              "      <td>...</td>\n",
              "      <td>...</td>\n",
              "      <td>...</td>\n",
              "      <td>...</td>\n",
              "      <td>...</td>\n",
              "      <td>...</td>\n",
              "      <td>...</td>\n",
              "      <td>...</td>\n",
              "      <td>...</td>\n",
              "      <td>...</td>\n",
              "      <td>...</td>\n",
              "    </tr>\n",
              "    <tr>\n",
              "      <th>156215</th>\n",
              "      <td>2752214</td>\n",
              "      <td>MCOU</td>\n",
              "      <td>XX</td>\n",
              "      <td>63868</td>\n",
              "      <td>17</td>\n",
              "      <td>1</td>\n",
              "      <td>2010</td>\n",
              "      <td>2</td>\n",
              "      <td>QC DOCUSAT</td>\n",
              "      <td>540.000</td>\n",
              "      <td>False</td>\n",
              "      <td>10</td>\n",
              "      <td>41.15</td>\n",
              "      <td>41.15</td>\n",
              "      <td>0.00</td>\n",
              "      <td>4/1</td>\n",
              "      <td>04/01/2010</td>\n",
              "      <td>NaN</td>\n",
              "      <td>NaN</td>\n",
              "      <td>NaN</td>\n",
              "      <td>63868001701</td>\n",
              "    </tr>\n",
              "    <tr>\n",
              "      <th>156216</th>\n",
              "      <td>2519195</td>\n",
              "      <td>MCOU</td>\n",
              "      <td>MI</td>\n",
              "      <td>121</td>\n",
              "      <td>489</td>\n",
              "      <td>10</td>\n",
              "      <td>2010</td>\n",
              "      <td>4</td>\n",
              "      <td>DIPHENHYDR</td>\n",
              "      <td>1970.000</td>\n",
              "      <td>False</td>\n",
              "      <td>12</td>\n",
              "      <td>16.48</td>\n",
              "      <td>16.48</td>\n",
              "      <td>0.00</td>\n",
              "      <td>10/1</td>\n",
              "      <td>10/01/2010</td>\n",
              "      <td>44.6074</td>\n",
              "      <td>-69.3977</td>\n",
              "      <td>(44.6074, -69.3977)</td>\n",
              "      <td>121048910</td>\n",
              "    </tr>\n",
              "    <tr>\n",
              "      <th>156217</th>\n",
              "      <td>815768</td>\n",
              "      <td>MCOU</td>\n",
              "      <td>MD</td>\n",
              "      <td>60432</td>\n",
              "      <td>133</td>\n",
              "      <td>25</td>\n",
              "      <td>2010</td>\n",
              "      <td>4</td>\n",
              "      <td>CLOBETASOL</td>\n",
              "      <td>75.000</td>\n",
              "      <td>False</td>\n",
              "      <td>3</td>\n",
              "      <td>32.24</td>\n",
              "      <td>30.24</td>\n",
              "      <td>2.00</td>\n",
              "      <td>10/1</td>\n",
              "      <td>10/01/2010</td>\n",
              "      <td>42.2373</td>\n",
              "      <td>-71.5314</td>\n",
              "      <td>(42.2373, -71.5314)</td>\n",
              "      <td>60432013325</td>\n",
              "    </tr>\n",
              "    <tr>\n",
              "      <th>156218</th>\n",
              "      <td>2029158</td>\n",
              "      <td>FFSU</td>\n",
              "      <td>DE</td>\n",
              "      <td>88</td>\n",
              "      <td>1109</td>\n",
              "      <td>47</td>\n",
              "      <td>2010</td>\n",
              "      <td>4</td>\n",
              "      <td>ALLEGRA (F</td>\n",
              "      <td>60.000</td>\n",
              "      <td>False</td>\n",
              "      <td>2</td>\n",
              "      <td>152.68</td>\n",
              "      <td>146.68</td>\n",
              "      <td>6.00</td>\n",
              "      <td>10/1</td>\n",
              "      <td>10/01/2010</td>\n",
              "      <td>38.8964</td>\n",
              "      <td>-77.0262</td>\n",
              "      <td>(38.8964, -77.0262)</td>\n",
              "      <td>88110947</td>\n",
              "    </tr>\n",
              "    <tr>\n",
              "      <th>156219</th>\n",
              "      <td>2799238</td>\n",
              "      <td>FFSU</td>\n",
              "      <td>DE</td>\n",
              "      <td>29</td>\n",
              "      <td>1527</td>\n",
              "      <td>25</td>\n",
              "      <td>2010</td>\n",
              "      <td>1</td>\n",
              "      <td>BACTROBAN(</td>\n",
              "      <td>360.000</td>\n",
              "      <td>False</td>\n",
              "      <td>12</td>\n",
              "      <td>896.33</td>\n",
              "      <td>705.82</td>\n",
              "      <td>190.51</td>\n",
              "      <td>1/1</td>\n",
              "      <td>01/01/2010</td>\n",
              "      <td>38.8964</td>\n",
              "      <td>-77.0262</td>\n",
              "      <td>(38.8964, -77.0262)</td>\n",
              "      <td>29152725</td>\n",
              "    </tr>\n",
              "  </tbody>\n",
              "</table>\n",
              "<p>156220 rows × 21 columns</p>\n",
              "</div>"
            ],
            "text/plain": [
              "        Unnamed: 0 Utilization Type  ...             Location          NDC\n",
              "0           128037             MCOU  ...  (31.1801, -91.8749)  37205013705\n",
              "1           491755             FFSU  ...  (39.3498, -75.5148)  62756076388\n",
              "2          2568076             FFSU  ...  (44.2853, -99.4632)  46987032311\n",
              "3           491263             FFSU  ...  (43.3504, -84.5603)    781518501\n",
              "4           836489             FFSU  ...                  NaN  51552080906\n",
              "...            ...              ...  ...                  ...          ...\n",
              "156215     2752214             MCOU  ...                  NaN  63868001701\n",
              "156216     2519195             MCOU  ...  (44.6074, -69.3977)    121048910\n",
              "156217      815768             MCOU  ...  (42.2373, -71.5314)  60432013325\n",
              "156218     2029158             FFSU  ...  (38.8964, -77.0262)     88110947\n",
              "156219     2799238             FFSU  ...  (38.8964, -77.0262)     29152725\n",
              "\n",
              "[156220 rows x 21 columns]"
            ]
          },
          "metadata": {
            "tags": []
          },
          "execution_count": 2
        }
      ]
    },
    {
      "cell_type": "code",
      "metadata": {
        "colab": {
          "base_uri": "https://localhost:8080/"
        },
        "id": "jxv38Ueg7YtU",
        "outputId": "6e3c1cae-d71a-468c-9e1e-eef21e9c86b6"
      },
      "source": [
        "df.dtypes"
      ],
      "execution_count": 3,
      "outputs": [
        {
          "output_type": "execute_result",
          "data": {
            "text/plain": [
              "Unnamed: 0                          int64\n",
              "Utilization Type                   object\n",
              "State                              object\n",
              "Labeler Code                        int64\n",
              "Product Code                        int64\n",
              "Package Size                        int64\n",
              "Year                                int64\n",
              "Quarter                             int64\n",
              "Product Name                       object\n",
              "Units Reimbursed                  float64\n",
              "Suppression Used                     bool\n",
              "Number of Prescriptions             int64\n",
              "Total Amount Reimbursed           float64\n",
              "Medicaid Amount Reimbursed        float64\n",
              "Non Medicaid Amount Reimbursed    float64\n",
              "Quarter Begin                      object\n",
              "Quarter Begin Date                 object\n",
              "Latitude                          float64\n",
              "Longitude                         float64\n",
              "Location                           object\n",
              "NDC                                 int64\n",
              "dtype: object"
            ]
          },
          "metadata": {
            "tags": []
          },
          "execution_count": 3
        }
      ]
    },
    {
      "cell_type": "markdown",
      "metadata": {
        "id": "r41TOWNC8tAq"
      },
      "source": [
        "1. Work on your selected data set and covert a column of non-categorical type into a categorical type."
      ]
    },
    {
      "cell_type": "code",
      "metadata": {
        "colab": {
          "base_uri": "https://localhost:8080/"
        },
        "id": "qf05Fzap-_bb",
        "outputId": "e5413320-503b-40f3-92e4-c9cf67380d48"
      },
      "source": [
        "df.Year.unique()"
      ],
      "execution_count": 4,
      "outputs": [
        {
          "output_type": "execute_result",
          "data": {
            "text/plain": [
              "array([2010])"
            ]
          },
          "metadata": {
            "tags": []
          },
          "execution_count": 4
        }
      ]
    },
    {
      "cell_type": "code",
      "metadata": {
        "colab": {
          "base_uri": "https://localhost:8080/"
        },
        "id": "BXoZhakh9DSL",
        "outputId": "fb5053c4-92be-4e85-9612-398941d06ce3"
      },
      "source": [
        "df['Year_object'] = df['Year'].astype(object)\n",
        "df.Year_object"
      ],
      "execution_count": 5,
      "outputs": [
        {
          "output_type": "execute_result",
          "data": {
            "text/plain": [
              "0         2010\n",
              "1         2010\n",
              "2         2010\n",
              "3         2010\n",
              "4         2010\n",
              "          ... \n",
              "156215    2010\n",
              "156216    2010\n",
              "156217    2010\n",
              "156218    2010\n",
              "156219    2010\n",
              "Name: Year_object, Length: 156220, dtype: object"
            ]
          },
          "metadata": {
            "tags": []
          },
          "execution_count": 5
        }
      ]
    },
    {
      "cell_type": "markdown",
      "metadata": {
        "id": "fHtBOO6-_H3B"
      },
      "source": [
        "2. Convert another column into a string type."
      ]
    },
    {
      "cell_type": "code",
      "metadata": {
        "colab": {
          "base_uri": "https://localhost:8080/"
        },
        "id": "GYL8nGDk_LUS",
        "outputId": "0783d03d-58f2-4be5-de14-00ec8c852f43"
      },
      "source": [
        "df['Suppression Used'] = df['Suppression Used'].astype(str)\n",
        "df.dtypes"
      ],
      "execution_count": 9,
      "outputs": [
        {
          "output_type": "execute_result",
          "data": {
            "text/plain": [
              "Unnamed: 0                          int64\n",
              "Utilization Type                   object\n",
              "State                              object\n",
              "Labeler Code                        int64\n",
              "Product Code                        int64\n",
              "Package Size                        int64\n",
              "Year                                int64\n",
              "Quarter                             int64\n",
              "Product Name                       object\n",
              "Units Reimbursed                  float64\n",
              "Suppression Used                   object\n",
              "Number of Prescriptions             int64\n",
              "Total Amount Reimbursed           float64\n",
              "Medicaid Amount Reimbursed        float64\n",
              "Non Medicaid Amount Reimbursed    float64\n",
              "Quarter Begin                      object\n",
              "Quarter Begin Date                 object\n",
              "Latitude                          float64\n",
              "Longitude                         float64\n",
              "Location                           object\n",
              "NDC                                 int64\n",
              "Year_object                        object\n",
              "Suppression Used_str               object\n",
              "dtype: object"
            ]
          },
          "metadata": {
            "tags": []
          },
          "execution_count": 9
        }
      ]
    }
  ]
}